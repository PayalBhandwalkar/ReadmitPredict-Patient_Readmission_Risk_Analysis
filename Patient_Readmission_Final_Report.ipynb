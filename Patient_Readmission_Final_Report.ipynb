{
 "cells": [
  {
   "cell_type": "markdown",
   "id": "93c905c0-070b-4b32-821d-4bcf620285fd",
   "metadata": {},
   "source": [
    "# 🏥 Patient Readmission Risk Analysis\n",
    "\n",
    "**Objective:**  \n",
    "To predict which patients are at risk of being readmitted within 30 days of hospital discharge by analyzing structured data (e.g. demographics, diagnosis, medication) and unstructured data (e.g. discharge notes) using machine learning and NLP techniques.\n",
    "\n",
    "This project combines explainability, model comparison, and real-world simulation — making it fit for industrial use in healthcare analytics.\n"
   ]
  },
  {
   "cell_type": "markdown",
   "id": "16f6ae64-f3f6-4f6c-8781-f56c1bc09228",
   "metadata": {},
   "source": [
    "## 📊 Dataset Overview\n",
    "\n",
    "### 1. Expanded Patient Dataset (Simulated via Mockaroo):\n",
    "- 1000+ rows of realistic patient info\n",
    "- Fields: age, gender, comorbidities, procedures, medications, insurance, discharge notes\n",
    "\n",
    "### 2. UCI Diabetes Readmission Dataset:\n",
    "- Real-world chronic readmission data (for chronic pattern validation)\n",
    "- Fields: diagnoses, hospital stays, lab results\n",
    "\n",
    "---\n",
    "\n",
    "### Features Used:\n",
    "- Categorical: `gender`, `race`, `insurance_type`, `hospital_unit`, `primary_diagnosis`\n",
    "- Numerical: `age`, `num_medications`, `length_of_stay`, `prior_visits`, `comorbidities_count`\n",
    "- Text: `discharge_notes_clean` (processed with TF-IDF)\n"
   ]
  },
  {
   "cell_type": "markdown",
   "id": "7e0f3c2e-47cb-4b06-9397-47555517d98a",
   "metadata": {},
   "source": [
    "## 🤖 Machine Learning Models\n",
    "\n",
    "### Structured Data:\n",
    "- Logistic Regression\n",
    "- Random Forest\n",
    "\n",
    "### Structured + NLP Data:\n",
    "- Random Forest + TF-IDF (top performer)\n",
    "\n",
    "---\n",
    "\n",
    "## 🧪 Evaluation Results\n",
    "\n",
    "| Model                      | Accuracy | F1 Score | Recall |\n",
    "|---------------------------|----------|----------|--------|\n",
    "| Logistic Regression        | 0.XX     | 0.XX     | 0.XX   |\n",
    "| Random Forest (Structured) | 0.XX     | 0.XX     | 0.XX   |\n",
    "| Random Forest + TF-IDF     | 0.XX     | 0.XX     | 0.XX   |\n",
    "\n",
    "🧠 **TF-IDF improved recall** – more high-risk readmissions correctly predicted!\n"
   ]
  },
  {
   "cell_type": "markdown",
   "id": "fa59e8d3-bb89-48fd-8208-8aca3760e0a0",
   "metadata": {},
   "source": [
    "## 🧠 Key Predictive Features\n",
    "\n",
    "Top predictors (based on Random Forest feature importances and SHAP values):\n",
    "\n",
    "- `length_of_stay`\n",
    "- `comorbidities_count`\n",
    "- `num_medications`\n",
    "- TF-IDF terms like \"pain\", \"infection\", \"fall\", \"respiratory\"\n",
    "\n",
    "🎯 SHAP analysis helped us **trust and interpret** the model's decisions — crucial for healthcare applications.\n"
   ]
  },
  {
   "cell_type": "markdown",
   "id": "7cf1f732-4ad2-4b6f-a3f7-22f1147f59dc",
   "metadata": {},
   "source": [
    "## ✅ Conclusion & Recommendations\n",
    "\n",
    "- Patients with high medication load, longer stays, and pain-related issues are more likely to be readmitted.\n",
    "- Unstructured text (discharge notes) **improved performance** when combined with structured data.\n",
    "- These models can be deployed to assist hospital discharge teams in **flagging high-risk patients**.\n",
    "\n",
    "📦 Exported Model: `readmission_model.pkl`  \n",
    "🚨 Next Step: Build Tableau dashboards for visual storytelling\n"
   ]
  },
  {
   "cell_type": "code",
   "execution_count": null,
   "id": "51412610-1569-42ac-a022-fb552a7595c2",
   "metadata": {},
   "outputs": [],
   "source": []
  }
 ],
 "metadata": {
  "kernelspec": {
   "display_name": "Python [conda env:base] *",
   "language": "python",
   "name": "conda-base-py"
  },
  "language_info": {
   "codemirror_mode": {
    "name": "ipython",
    "version": 3
   },
   "file_extension": ".py",
   "mimetype": "text/x-python",
   "name": "python",
   "nbconvert_exporter": "python",
   "pygments_lexer": "ipython3",
   "version": "3.12.7"
  }
 },
 "nbformat": 4,
 "nbformat_minor": 5
}
